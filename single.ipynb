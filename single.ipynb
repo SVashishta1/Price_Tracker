{
 "cells": [
  {
   "cell_type": "code",
   "execution_count": null,
   "metadata": {},
   "outputs": [],
   "source": [
    "import requests\n",
    "from bs4 import BeautifulSoup\n",
    "import mysql.connector"
   ]
  },
  {
   "cell_type": "code",
   "execution_count": null,
   "metadata": {},
   "outputs": [],
   "source": [
    "%pip install lxml\n"
   ]
  },
  {
   "cell_type": "code",
   "execution_count": null,
   "metadata": {},
   "outputs": [],
   "source": [
    "amazon_product_url = \"https://www.amazon.com/Ring-Video-Doorbell-Satin-Nickel-2020-Release/dp/B08N5NQ869/ref=sr_1_1?keywords=ring+doorbell&qid=1699644293&sr=8-1\"\n",
    "headers = {\"user-agent\":\"Mozilla/5.0 (Macintosh; Intel Mac OS X 10_15_7) AppleWebKit/537.36 (KHTML, like Gecko) Chrome/118.0.0.0 Safari/537.36\"}\n"
   ]
  },
  {
   "cell_type": "code",
   "execution_count": null,
   "metadata": {},
   "outputs": [],
   "source": [
    "page = requests.get(url=amazon_product_url, headers=headers) \n",
    "soup = BeautifulSoup(page.content,'html.parser') \n",
    "print(soup.prettify())"
   ]
  },
  {
   "cell_type": "code",
   "execution_count": null,
   "metadata": {},
   "outputs": [],
   "source": [
    "title = soup.find(id = \"productTitle\")\n",
    "print(title)"
   ]
  },
  {
   "cell_type": "markdown",
   "metadata": {},
   "source": [
    "With Selinium"
   ]
  },
  {
   "cell_type": "code",
   "execution_count": null,
   "metadata": {},
   "outputs": [],
   "source": [
    "%pip install selenium"
   ]
  },
  {
   "cell_type": "code",
   "execution_count": null,
   "metadata": {},
   "outputs": [],
   "source": [
    "from selenium import webdriver\n",
    "from selenium.webdriver.chrome.options import Options\n",
    "from bs4 import BeautifulSoup\n",
    "import time\n",
    "\n",
    "# Replace 'path/to/chromedriver' with the actual path to your Chromedriver executable\n",
    "chromedriver_path = '/Users/svashi/Downloads/chromedriver-mac-arm64/chromedriver'\n",
    "\n",
    "# Set up Chrome options\n",
    "chrome_options = Options()\n",
    "chrome_options.add_argument('--headless')  # Optional: Run Chrome in headless mode (without GUI)\n",
    "\n",
    "# Set up the webdriver with options\n",
    "driver = webdriver.Chrome(options=chrome_options)\n",
    "\n",
    "amazon_product_url = \"https://www.amazon.com/Ring-Video-Doorbell-Satin-Nickel-2020-Release/dp/B08N5NQ869/ref=sr_1_1?keywords=ring+doorbell&qid=1699644293&sr=8-1\"\n",
    "\n",
    "# Use the webdriver to navigate to the URL\n",
    "driver.get(amazon_product_url)\n",
    "\n",
    "# Wait for some time to allow the page to load (you might need to adjust the time based on the page's loading speed)\n",
    "time.sleep(5)\n",
    "\n",
    "# Get the page source after the page has loaded\n",
    "page_content = driver.page_source\n",
    "\n",
    "# Close the webdriver\n",
    "driver.quit()\n",
    "\n",
    "# Now you can parse the content with BeautifulSoup\n",
    "soup = BeautifulSoup(page_content, 'html.parser')\n",
    "print(soup.prettify())\n"
   ]
  },
  {
   "cell_type": "markdown",
   "metadata": {},
   "source": [
    "Scrapping price with Selenium"
   ]
  },
  {
   "cell_type": "code",
   "execution_count": null,
   "metadata": {},
   "outputs": [],
   "source": [
    "from selenium import webdriver\n",
    "from selenium.webdriver.chrome.options import Options\n",
    "from bs4 import BeautifulSoup\n",
    "import time\n",
    "\n",
    "# Replace 'path/to/chromedriver' with the actual path to your Chromedriver executable\n",
    "chromedriver_path = '/Users/svashi/Downloads/chromedriver-mac-arm64/chromedriver'\n",
    "\n",
    "# Set up Chrome options\n",
    "chrome_options = Options()\n",
    "chrome_options.add_argument('--headless')  # Optional: Run Chrome in headless mode (without GUI)\n",
    "\n",
    "# Set up the webdriver with options\n",
    "driver = webdriver.Chrome(options=chrome_options)\n",
    "\n",
    "amazon_product_url = \"https://www.amazon.com/Ring-Video-Doorbell-Satin-Nickel-2020-Release/dp/B08N5NQ869/ref=sr_1_1?keywords=ring+doorbell&qid=1699644293&sr=8-1\"\n",
    "\n",
    "# Use the webdriver to navigate to the URL\n",
    "driver.get(amazon_product_url)\n",
    "\n",
    "# Wait for some time to allow the page to load (you might need to adjust the time based on the page's loading speed)\n",
    "time.sleep(5)\n",
    "\n",
    "# Get the page source after the page has loaded\n",
    "page_content = driver.page_source\n",
    "\n",
    "# Close the webdriver\n",
    "driver.quit()\n",
    "\n",
    "# Now you can parse the content with BeautifulSoup\n",
    "soup = BeautifulSoup(page_content, 'html.parser')\n",
    "\n",
    "# Find the span with class 'a-offscreen' within the specified div\n",
    "price_span = soup.find('div', {'id': 'corePrice_feature_div'}).find('span', {'class': 'a-offscreen'})\n",
    "\n",
    "# Extract and print the price text\n",
    "price = price_span.get_text(strip=False)\n",
    "print(\"Price:\", price)\n"
   ]
  },
  {
   "cell_type": "markdown",
   "metadata": {},
   "source": [
    "Working Amazon Name + Price"
   ]
  },
  {
   "cell_type": "code",
   "execution_count": 23,
   "metadata": {},
   "outputs": [
    {
     "name": "stdout",
     "output_type": "stream",
     "text": [
      "Product Name: Meta Quest 3 128GB— Breakthrough Mixed Reality — Powerful Performance — Asgard’s Wrath 2 Bundle\n",
      "Price: $499.00\n"
     ]
    }
   ],
   "source": [
    "from selenium import webdriver\n",
    "from selenium.webdriver.chrome.options import Options\n",
    "from bs4 import BeautifulSoup\n",
    "import time\n",
    "\n",
    "# Replace 'path/to/chromedriver' with the actual path to your Chromedriver executable\n",
    "# chromedriver_path = '/Users/svashi/Downloads/chromedriver-mac-arm64/chromedriver'\n",
    "\n",
    "# Set up Chrome options\n",
    "chrome_options = Options()\n",
    "chrome_options.add_argument('--headless')  # Optional: Run Chrome in headless mode (without GUI)\n",
    "\n",
    "# Set up the webdriver with options\n",
    "driver = webdriver.Chrome(options=chrome_options)\n",
    "\n",
    "amazon_product_url = \"https://www.amazon.com/Ring-Video-Doorbell-Satin-Nickel-2020-Release/dp/B08N5NQ869/ref=sr_1_1?keywords=ring+doorbell&qid=1699644293&sr=8-1\"\n",
    "\n",
    "\n",
    "# Use the webdriver to navigate to the URL\n",
    "driver.get(amazon_product_url)\n",
    "\n",
    "# Wait for some time to allow the page to load (you might need to adjust the time based on the page's loading speed)\n",
    "time.sleep(5)\n",
    "\n",
    "# Get the page source after the page has loaded\n",
    "page_content = driver.page_source\n",
    "\n",
    "# Close the webdriver\n",
    "driver.quit()\n",
    "\n",
    "# Now you can parse the content with BeautifulSoup\n",
    "soup = BeautifulSoup(page_content, 'html.parser')\n",
    "\n",
    "# Find the span with ID 'productTitle' and class 'a-size-large'\n",
    "product_title_span = soup.find('span', {'id': 'productTitle', 'class': 'a-size-large'})\n",
    "\n",
    "# Extract and print the product title text\n",
    "product_title = product_title_span.get_text(strip=True)\n",
    "print(\"Product Name:\", product_title)\n",
    "\n",
    "# Find the span with class 'a-offscreen' within the specified div\n",
    "price_span = soup.find('div', {'id': 'corePrice_feature_div'}).find('span', {'class': 'a-offscreen'})\n",
    "\n",
    "# Extract and print the price text\n",
    "price = price_span.get_text(strip=True)\n",
    "print(\"Price:\", price)\n",
    "\n"
   ]
  },
  {
   "cell_type": "markdown",
   "metadata": {},
   "source": [
    "Walmart Name + Price"
   ]
  },
  {
   "cell_type": "code",
   "execution_count": 67,
   "metadata": {},
   "outputs": [
    {
     "name": "stdout",
     "output_type": "stream",
     "text": [
      "Product name not found on the page.\n",
      "Product price not found on the page.\n"
     ]
    }
   ],
   "source": [
    "from selenium import webdriver\n",
    "from selenium.webdriver.chrome.options import Options\n",
    "from bs4 import BeautifulSoup\n",
    "import time\n",
    "\n",
    "# Replace 'path/to/chromedriver' with the actual path to your Chromedriver executable\n",
    "chromedriver_path = '/Users/svashi/Downloads/chromedriver-mac-arm64/chromedriver'\n",
    "\n",
    "# Set up Chrome options\n",
    "chrome_options = Options()\n",
    "chrome_options.add_argument('--headless')  # Optional: Run Chrome in headless mode (without GUI)\n",
    "\n",
    "# Set up the webdriver with options\n",
    "driver = webdriver.Chrome(options=chrome_options)\n",
    "\n",
    "# URL of the target website\n",
    "website_url = \"https://www.walmart.com/ip/Apple-AirPods-Max-Space-Gray/509451094\"  # Replace with the actual URL\n",
    "\n",
    "# Use the webdriver to navigate to the URL\n",
    "driver.get(website_url)\n",
    "\n",
    "# Wait for some time to allow the page to load (you might need to adjust the time based on the page's loading speed)\n",
    "time.sleep(5)\n",
    "\n",
    "# Get the page source after the page has loaded\n",
    "page_content = driver.page_source\n",
    "\n",
    "# Close the webdriver\n",
    "driver.quit()\n",
    "\n",
    "# Now you can parse the content with BeautifulSoup\n",
    "soup = BeautifulSoup(page_content, 'html.parser')\n",
    "\n",
    "# Find the h1 with ID 'main-title' and class 'lh-copy'\n",
    "product_name_h1 = soup.find('h1', {'id': 'main-title', 'class': 'lh-copy'})\n",
    "\n",
    "# Check if the element was found before extracting its text\n",
    "if product_name_h1:\n",
    "    # Extract and print the product name text\n",
    "    product_name = product_name_h1.get_text(strip=True)\n",
    "    print(\"Product Name:\", product_name)\n",
    "else:\n",
    "    print(\"Product name not found on the page.\")\n",
    "\n",
    "# Find the span with itemprop 'price'\n",
    "product_price_span = soup.find('span', {'itemprop': 'price'})\n",
    "\n",
    "# Check if the element was found before extracting its text\n",
    "if product_price_span:\n",
    "    # Extract and print the product price text\n",
    "    product_price = product_price_span.get_text(strip=True)\n",
    "    print(\"Product Price:\", product_price)\n",
    "else:\n",
    "    print(\"Product price not found on the page.\")\n"
   ]
  },
  {
   "cell_type": "markdown",
   "metadata": {},
   "source": [
    "Working Walmart Name + Price WithOut GUI"
   ]
  },
  {
   "cell_type": "code",
   "execution_count": 29,
   "metadata": {},
   "outputs": [
    {
     "name": "stdout",
     "output_type": "stream",
     "text": [
      "Product Name: Meta Quest 3 - 128GB — Breakthrough Mixed Reality — Powerful Performance — Asgard’s Wrath 2 Bundle\n",
      "Product Price: $499.00\n"
     ]
    }
   ],
   "source": [
    "import requests\n",
    "from bs4 import BeautifulSoup\n",
    "\n",
    "url = \"https://www.walmart.com/ip/Ring-Video-Doorbell-Battery-or-Wired-Satin-1080p-Savings-Story-Cleaning-Cloth-Camera-6-in/2992967858?athbdg=L1600\"\n",
    "url = \"https://www.walmart.com/ip/Meta-Quest-3-128GB-Breakthrough-Mixed-Reality-Powerful-Performance-Asgard-s-Wrath-2-Bundle/2212742363?adsRedirect=true\"\n",
    "\n",
    "# Set a User-Agent header to mimic a regular web browser\n",
    "headers = {\"user-agent\":\"Mozilla/5.0 (Macintosh; Intel Mac OS X 10_15_7) AppleWebKit/537.36 (KHTML, like Gecko) Chrome/118.0.0.0 Safari/537.36\"}\n",
    "\n",
    "\n",
    "# Use a session to persist cookies across requests\n",
    "with requests.Session() as session:\n",
    "    # Send a GET request to the URL\n",
    "    response = session.get(url, headers=headers)\n",
    "\n",
    "    # Check if the request was successful (status code 200)\n",
    "    if response.status_code == 200:\n",
    "        # Parse the HTML content of the page\n",
    "        soup = BeautifulSoup(response.content, \"html.parser\")\n",
    "\n",
    "        # Extract product name\n",
    "        name_element = soup.find(\"h1\", {\"id\": \"main-title\", \"itemprop\": \"name\"})\n",
    "        product_name = name_element.text.strip() if name_element else \"Name not found\"\n",
    "\n",
    "        # Extract product price\n",
    "        price_element = soup.find(\"span\", {\"itemprop\": \"price\", \"aria-hidden\": \"false\"})\n",
    "        product_price = price_element.text.strip() if price_element else \"Price not found\"\n",
    "\n",
    "        # Print the results\n",
    "        print(\"Product Name:\", product_name)\n",
    "        print(\"Product Price:\", product_price)\n",
    "    else:\n",
    "        print(\"Failed to retrieve the page. Status code:\", response.status_code)\n"
   ]
  },
  {
   "cell_type": "markdown",
   "metadata": {},
   "source": [
    "Working Walmart Name + Price With GUI"
   ]
  },
  {
   "cell_type": "code",
   "execution_count": 5,
   "metadata": {},
   "outputs": [
    {
     "name": "stdout",
     "output_type": "stream",
     "text": [
      "Product Name: Apple AirPods Max - Space Gray\n",
      "Product Price: $549.00\n"
     ]
    }
   ],
   "source": [
    "from selenium import webdriver\n",
    "from bs4 import BeautifulSoup\n",
    "\n",
    "url = \"https://www.walmart.com/ip/Apple-AirPods-Max-Space-Gray/509451094\"\n",
    "\n",
    "# Use a webdriver to open the page\n",
    "driver = webdriver.Chrome()  # You need to have ChromeDriver installed and provide the path if not in the system PATH\n",
    "driver.get(url)\n",
    "\n",
    "# Wait for the page to load (you may need to adjust the wait time based on the page loading speed)\n",
    "driver.implicitly_wait(10)\n",
    "\n",
    "# Get the page source after it has fully loaded\n",
    "page_source = driver.page_source\n",
    "\n",
    "# Close the webdriver as we have the page source\n",
    "driver.quit()\n",
    "\n",
    "# Use BeautifulSoup on the page source\n",
    "soup = BeautifulSoup(page_source, 'html.parser')\n",
    "\n",
    "# Find the product name\n",
    "product_name_tag = soup.find('h1', {'itemprop': 'name'})\n",
    "product_name = product_name_tag.text.strip() if product_name_tag else \"Product name not found\"\n",
    "\n",
    "# Find the product price\n",
    "product_price_tag = soup.find('span', {'itemprop': 'price'})\n",
    "product_price = product_price_tag.text.strip() if product_price_tag else \"Product price not found\"\n",
    "\n",
    "print(\"Product Name:\", product_name)\n",
    "print(\"Product Price:\", product_price)\n"
   ]
  },
  {
   "cell_type": "code",
   "execution_count": 55,
   "metadata": {},
   "outputs": [
    {
     "ename": "TypeError",
     "evalue": "WebDriver.__init__() got an unexpected keyword argument 'executable_path'",
     "output_type": "error",
     "traceback": [
      "\u001b[0;31m---------------------------------------------------------------------------\u001b[0m",
      "\u001b[0;31mTypeError\u001b[0m                                 Traceback (most recent call last)",
      "\u001b[1;32m/Users/svashi/VS_Code/Price Tracker/app/single.ipynb Cell 17\u001b[0m line \u001b[0;36m1\n\u001b[1;32m      <a href='vscode-notebook-cell:/Users/svashi/VS_Code/Price%20Tracker/app/single.ipynb#X24sZmlsZQ%3D%3D?line=8'>9</a>\u001b[0m chrome_options\u001b[39m.\u001b[39madd_argument(\u001b[39m'\u001b[39m\u001b[39m--headless\u001b[39m\u001b[39m'\u001b[39m)  \u001b[39m# Optional: Run Chrome in headless mode (without GUI)\u001b[39;00m\n\u001b[1;32m     <a href='vscode-notebook-cell:/Users/svashi/VS_Code/Price%20Tracker/app/single.ipynb#X24sZmlsZQ%3D%3D?line=10'>11</a>\u001b[0m \u001b[39m# Set up the webdriver with options\u001b[39;00m\n\u001b[0;32m---> <a href='vscode-notebook-cell:/Users/svashi/VS_Code/Price%20Tracker/app/single.ipynb#X24sZmlsZQ%3D%3D?line=11'>12</a>\u001b[0m driver \u001b[39m=\u001b[39m webdriver\u001b[39m.\u001b[39;49mChrome(executable_path\u001b[39m=\u001b[39;49mchromedriver_path, options\u001b[39m=\u001b[39;49mchrome_options)\n\u001b[1;32m     <a href='vscode-notebook-cell:/Users/svashi/VS_Code/Price%20Tracker/app/single.ipynb#X24sZmlsZQ%3D%3D?line=13'>14</a>\u001b[0m url \u001b[39m=\u001b[39m \u001b[39m\"\u001b[39m\u001b[39mhttps://www.walmart.com/ip/Apple-AirPods-Max-Space-Gray/509451094\u001b[39m\u001b[39m\"\u001b[39m\n\u001b[1;32m     <a href='vscode-notebook-cell:/Users/svashi/VS_Code/Price%20Tracker/app/single.ipynb#X24sZmlsZQ%3D%3D?line=15'>16</a>\u001b[0m \u001b[39m# Use the webdriver to open the page\u001b[39;00m\n",
      "\u001b[0;31mTypeError\u001b[0m: WebDriver.__init__() got an unexpected keyword argument 'executable_path'"
     ]
    }
   ],
   "source": [
    "from selenium import webdriver\n",
    "from selenium.webdriver.chrome.options import Options\n",
    "from bs4 import BeautifulSoup\n",
    "\n",
    "chromedriver_path = '/Users/svashi/Downloads/chromedriver-mac-arm64/chromedriver'\n",
    "\n",
    "# Set up Chrome options\n",
    "chrome_options = Options()\n",
    "chrome_options.add_argument('--headless')  # Optional: Run Chrome in headless mode (without GUI)\n",
    "\n",
    "# Set up the webdriver with options\n",
    "driver = webdriver.Chrome(executable_path=chromedriver_path, options=chrome_options)\n",
    "\n",
    "url = \"https://www.walmart.com/ip/Apple-AirPods-Max-Space-Gray/509451094\"\n",
    "\n",
    "# Use the webdriver to open the page\n",
    "driver.get(url)\n",
    "\n",
    "# Wait for the page to load (you may need to adjust the wait time based on the page loading speed)\n",
    "driver.implicitly_wait(10)\n",
    "\n",
    "# Get the page source after it has fully loaded\n",
    "page_source = driver.page_source\n",
    "\n",
    "# Close the webdriver as we have the page source\n",
    "driver.quit()\n",
    "\n",
    "# Use BeautifulSoup on the page source\n",
    "soup = BeautifulSoup(page_source, 'html.parser')\n",
    "\n",
    "# Find the product name\n",
    "product_name_tag = soup.find('h1', {'itemprop': 'name'})\n",
    "product_name = product_name_tag.text.strip() if product_name_tag else \"Product name not found\"\n",
    "\n",
    "# Find the product price\n",
    "product_price_tag = soup.find('span', {'itemprop': 'price'})\n",
    "product_price = product_price_tag.text.strip() if product_price_tag else \"Product price not found\"\n",
    "\n",
    "print(\"Product Name:\", product_name)\n",
    "print(\"Product Price:\", product_price)\n"
   ]
  },
  {
   "cell_type": "markdown",
   "metadata": {},
   "source": [
    "Walmart + Try"
   ]
  },
  {
   "cell_type": "code",
   "execution_count": 4,
   "metadata": {},
   "outputs": [
    {
     "name": "stdout",
     "output_type": "stream",
     "text": [
      "Product Name: Product name not found\n",
      "Product Price: Product price not found\n"
     ]
    }
   ],
   "source": [
    "from selenium import webdriver\n",
    "from selenium.webdriver.chrome.options import Options\n",
    "from bs4 import BeautifulSoup\n",
    "import time\n",
    "\n",
    "# Replace 'path/to/chromedriver' with the actual path to your Chromedriver executable\n",
    "chromedriver_path = '/Users/svashi/Downloads/chromedriver-mac-arm64/chromedriver'\n",
    "\n",
    "# Set up Chrome options\n",
    "chrome_options = Options()\n",
    "chrome_options.add_argument('--headless')  # Optional: Run Chrome in headless mode (without GUI)\n",
    "\n",
    "url = \"https://www.walmart.com/ip/Apple-AirPods-Max-Space-Gray/509451094\"\n",
    "\n",
    "# Set up the webdriver with options\n",
    "driver = webdriver.Chrome(options=chrome_options)\n",
    "\n",
    "# Use the webdriver to navigate to the URL\n",
    "driver.get(url)\n",
    "\n",
    "# Wait for some time to allow the page to load (you might need to adjust the time based on the page's loading speed)\n",
    "time.sleep(100)\n",
    "\n",
    "# Get the page source after the page has loaded\n",
    "page_content = driver.page_source\n",
    "\n",
    "# Close the webdriver\n",
    "driver.quit()\n",
    "\n",
    "# Use BeautifulSoup on the page source\n",
    "soup = BeautifulSoup(page_content, 'html.parser')\n",
    "\n",
    "# Find the product name\n",
    "product_name_tag = soup.find('h1', {'itemprop': 'name'})\n",
    "product_name = product_name_tag.text.strip() if product_name_tag else \"Product name not found\"\n",
    "\n",
    "# Find the product price\n",
    "product_price_tag = soup.find('span', {'itemprop': 'price'})\n",
    "product_price = product_price_tag.text.strip() if product_price_tag else \"Product price not found\"\n",
    "\n",
    "print(\"Product Name:\", product_name)\n",
    "print(\"Product Price:\", product_price)\n",
    "########################################################################################################################################################################################################################################################################\n",
    "\n",
    "\n"
   ]
  },
  {
   "cell_type": "code",
   "execution_count": 3,
   "metadata": {},
   "outputs": [
    {
     "ename": "TimeoutException",
     "evalue": "Message: \nStacktrace:\n0   chromedriver                        0x000000010335a004 chromedriver + 4169732\n1   chromedriver                        0x0000000103351ff8 chromedriver + 4136952\n2   chromedriver                        0x0000000102fa7500 chromedriver + 292096\n3   chromedriver                        0x0000000102fec7a0 chromedriver + 575392\n4   chromedriver                        0x0000000103027818 chromedriver + 817176\n5   chromedriver                        0x0000000102fe05e8 chromedriver + 525800\n6   chromedriver                        0x0000000102fe14b8 chromedriver + 529592\n7   chromedriver                        0x0000000103320334 chromedriver + 3932980\n8   chromedriver                        0x0000000103324970 chromedriver + 3950960\n9   chromedriver                        0x0000000103308774 chromedriver + 3835764\n10  chromedriver                        0x0000000103325478 chromedriver + 3953784\n11  chromedriver                        0x00000001032faab4 chromedriver + 3779252\n12  chromedriver                        0x0000000103341914 chromedriver + 4069652\n13  chromedriver                        0x0000000103341a90 chromedriver + 4070032\n14  chromedriver                        0x0000000103351c70 chromedriver + 4136048\n15  libsystem_pthread.dylib             0x0000000181165034 _pthread_start + 136\n16  libsystem_pthread.dylib             0x000000018115fe3c thread_start + 8\n",
     "output_type": "error",
     "traceback": [
      "\u001b[0;31m---------------------------------------------------------------------------\u001b[0m",
      "\u001b[0;31mTimeoutException\u001b[0m                          Traceback (most recent call last)",
      "\u001b[1;32m/Users/svashi/VS_Code/Price Tracker/app/single.ipynb Cell 20\u001b[0m line \u001b[0;36m2\n\u001b[1;32m     <a href='vscode-notebook-cell:/Users/svashi/VS_Code/Price%20Tracker/app/single.ipynb#X25sZmlsZQ%3D%3D?line=23'>24</a>\u001b[0m wait \u001b[39m=\u001b[39m WebDriverWait(driver, \u001b[39m200\u001b[39m)\n\u001b[1;32m     <a href='vscode-notebook-cell:/Users/svashi/VS_Code/Price%20Tracker/app/single.ipynb#X25sZmlsZQ%3D%3D?line=25'>26</a>\u001b[0m \u001b[39m# Wait for the product name to be present in the DOM\u001b[39;00m\n\u001b[0;32m---> <a href='vscode-notebook-cell:/Users/svashi/VS_Code/Price%20Tracker/app/single.ipynb#X25sZmlsZQ%3D%3D?line=26'>27</a>\u001b[0m product_name_tag \u001b[39m=\u001b[39m wait\u001b[39m.\u001b[39;49muntil(EC\u001b[39m.\u001b[39;49mpresence_of_element_located((By\u001b[39m.\u001b[39;49mCSS_SELECTOR, \u001b[39m'\u001b[39;49m\u001b[39mh1[itemprop=\u001b[39;49m\u001b[39m\"\u001b[39;49m\u001b[39mname\u001b[39;49m\u001b[39m\"\u001b[39;49m\u001b[39m]\u001b[39;49m\u001b[39m'\u001b[39;49m)))\n\u001b[1;32m     <a href='vscode-notebook-cell:/Users/svashi/VS_Code/Price%20Tracker/app/single.ipynb#X25sZmlsZQ%3D%3D?line=27'>28</a>\u001b[0m product_name \u001b[39m=\u001b[39m product_name_tag\u001b[39m.\u001b[39mtext\u001b[39m.\u001b[39mstrip() \u001b[39mif\u001b[39;00m product_name_tag \u001b[39melse\u001b[39;00m \u001b[39m\"\u001b[39m\u001b[39mProduct name not found\u001b[39m\u001b[39m\"\u001b[39m\n\u001b[1;32m     <a href='vscode-notebook-cell:/Users/svashi/VS_Code/Price%20Tracker/app/single.ipynb#X25sZmlsZQ%3D%3D?line=29'>30</a>\u001b[0m \u001b[39m# Wait for the product price to be present in the DOM\u001b[39;00m\n",
      "File \u001b[0;32m/Library/Frameworks/Python.framework/Versions/3.11/lib/python3.11/site-packages/selenium/webdriver/support/wait.py:101\u001b[0m, in \u001b[0;36mWebDriverWait.until\u001b[0;34m(self, method, message)\u001b[0m\n\u001b[1;32m     99\u001b[0m     \u001b[39mif\u001b[39;00m time\u001b[39m.\u001b[39mmonotonic() \u001b[39m>\u001b[39m end_time:\n\u001b[1;32m    100\u001b[0m         \u001b[39mbreak\u001b[39;00m\n\u001b[0;32m--> 101\u001b[0m \u001b[39mraise\u001b[39;00m TimeoutException(message, screen, stacktrace)\n",
      "\u001b[0;31mTimeoutException\u001b[0m: Message: \nStacktrace:\n0   chromedriver                        0x000000010335a004 chromedriver + 4169732\n1   chromedriver                        0x0000000103351ff8 chromedriver + 4136952\n2   chromedriver                        0x0000000102fa7500 chromedriver + 292096\n3   chromedriver                        0x0000000102fec7a0 chromedriver + 575392\n4   chromedriver                        0x0000000103027818 chromedriver + 817176\n5   chromedriver                        0x0000000102fe05e8 chromedriver + 525800\n6   chromedriver                        0x0000000102fe14b8 chromedriver + 529592\n7   chromedriver                        0x0000000103320334 chromedriver + 3932980\n8   chromedriver                        0x0000000103324970 chromedriver + 3950960\n9   chromedriver                        0x0000000103308774 chromedriver + 3835764\n10  chromedriver                        0x0000000103325478 chromedriver + 3953784\n11  chromedriver                        0x00000001032faab4 chromedriver + 3779252\n12  chromedriver                        0x0000000103341914 chromedriver + 4069652\n13  chromedriver                        0x0000000103341a90 chromedriver + 4070032\n14  chromedriver                        0x0000000103351c70 chromedriver + 4136048\n15  libsystem_pthread.dylib             0x0000000181165034 _pthread_start + 136\n16  libsystem_pthread.dylib             0x000000018115fe3c thread_start + 8\n"
     ]
    }
   ],
   "source": [
    "from selenium import webdriver\n",
    "from selenium.webdriver.chrome.options import Options\n",
    "from selenium.webdriver.common.by import By\n",
    "from selenium.webdriver.support.ui import WebDriverWait\n",
    "from selenium.webdriver.support import expected_conditions as EC\n",
    "from bs4 import BeautifulSoup\n",
    "\n",
    "# Replace 'path/to/chromedriver' with the actual path to your Chromedriver executable\n",
    "chromedriver_path = '/Users/svashi/Downloads/chromedriver-mac-arm64/chromedriver'\n",
    "\n",
    "# Set up Chrome options\n",
    "chrome_options = Options()\n",
    "chrome_options.add_argument('--headless')  # Optional: Run Chrome in headless mode (without GUI)\n",
    "\n",
    "url = \"https://www.walmart.com/ip/Apple-AirPods-Max-Space-Gray/509451094\"\n",
    "\n",
    "# Set up the webdriver with options\n",
    "driver = webdriver.Chrome(options=chrome_options)\n",
    "\n",
    "# Use the webdriver to navigate to the URL\n",
    "driver.get(url)\n",
    "\n",
    "# Set up an explicit wait with a maximum timeout of 20 seconds\n",
    "wait = WebDriverWait(driver, 200)\n",
    "\n",
    "# Wait for the product name to be present in the DOM\n",
    "product_name_tag = wait.until(EC.presence_of_element_located((By.CSS_SELECTOR, 'h1[itemprop=\"name\"]')))\n",
    "product_name = product_name_tag.text.strip() if product_name_tag else \"Product name not found\"\n",
    "\n",
    "# Wait for the product price to be present in the DOM\n",
    "product_price_tag = wait.until(EC.presence_of_element_located((By.CSS_SELECTOR, 'span[itemprop=\"price\"]')))\n",
    "product_price = product_price_tag.text.strip() if product_price_tag else \"Product price not found\"\n",
    "\n",
    "# Close the webdriver\n",
    "driver.quit()\n",
    "\n",
    "print(\"Product Name:\", product_name)\n",
    "print(\"Product Price:\", product_price)\n"
   ]
  },
  {
   "cell_type": "code",
   "execution_count": 8,
   "metadata": {},
   "outputs": [
    {
     "name": "stdout",
     "output_type": "stream",
     "text": [
      "Product Name: Product name not found\n",
      "Product Price: Product price not found\n"
     ]
    }
   ],
   "source": [
    "from selenium import webdriver\n",
    "from selenium.webdriver.chrome.options import Options\n",
    "from bs4 import BeautifulSoup\n",
    "import time\n",
    "\n",
    "# Replace 'path/to/chromedriver' with the actual path to your Chromedriver executable\n",
    "chromedriver_path = '/Users/svashi/Downloads/chromedriver-mac-arm64/chromedriver'\n",
    "\n",
    "# Set up Chrome options for headless mode\n",
    "chrome_options = Options()\n",
    "chrome_options.add_argument('--headless')  # Run Chrome in headless mode (without GUI)\n",
    "\n",
    "url = \"https://www.walmart.com/ip/Apple-AirPods-Max-Space-Gray/509451094\"\n",
    "\n",
    "# Set up the webdriver with options\n",
    "driver = webdriver.Chrome(options=chrome_options)\n",
    "\n",
    "# Use the webdriver to navigate to the URL\n",
    "driver.get(url)\n",
    "\n",
    "# Wait for some time to allow the page to load (you might need to adjust the time based on the page's loading speed)\n",
    "time.sleep(20)\n",
    "\n",
    "# Get the page source after the page has loaded\n",
    "page_content = driver.page_source\n",
    "\n",
    "# Close the webdriver\n",
    "driver.quit()\n",
    "\n",
    "# Use BeautifulSoup on the page source\n",
    "soup = BeautifulSoup(page_content, 'html.parser')\n",
    "\n",
    "# Find the product name\n",
    "product_name_tag = soup.find('h1', {'itemprop': 'name'})\n",
    "product_name = product_name_tag.text.strip() if product_name_tag else \"Product name not found\"\n",
    "\n",
    "# Find the product price\n",
    "product_price_tag = soup.find('span', {'itemprop': 'price'})\n",
    "product_price = product_price_tag.text.strip() if product_price_tag else \"Product price not found\"\n",
    "\n",
    "print(\"Product Name:\", product_name)\n",
    "print(\"Product Price:\", product_price)\n"
   ]
  },
  {
   "cell_type": "markdown",
   "metadata": {},
   "source": [
    "Working Best Buy Name + Price."
   ]
  },
  {
   "cell_type": "code",
   "execution_count": 36,
   "metadata": {},
   "outputs": [
    {
     "name": "stdout",
     "output_type": "stream",
     "text": [
      "Product Name: Ring - Video Doorbell - Venetian Bronze\n",
      "Product Price: $99.99\n"
     ]
    }
   ],
   "source": [
    "import requests\n",
    "from bs4 import BeautifulSoup\n",
    "import time\n",
    "\n",
    "url = \"https://www.bestbuy.com/site/ring-video-doorbell-venetian-bronze/6441423.p?skuId=6441423\"\n",
    "\n",
    "# Set a User-Agent header to mimic a regular web browser\n",
    "headers = {\"user-agent\":\"Mozilla/5.0 (Macintosh; Intel Mac OS X 10_15_7) AppleWebKit/537.36 (KHTML, like Gecko) Chrome/118.0.0.0 Safari/537.36\"}\n",
    "\n",
    "\n",
    "# Use a session to persist cookies across requests\n",
    "with requests.Session() as session:\n",
    "    # Send a GET request to the URL\n",
    "    response = session.get(url, headers=headers)\n",
    "\n",
    "    # Check if the request was successful (status code 200)\n",
    "    if response.status_code == 200:\n",
    "        # Parse the HTML content of the page\n",
    "        soup = BeautifulSoup(response.content, \"html.parser\")\n",
    "\n",
    "        # Extract product name\n",
    "        name_element = soup.find(\"div\", {\"class\": \"sku-title\"}).find(\"h1\", {\"class\": \"heading-5\"})\n",
    "        product_name = name_element.text.strip() if name_element else \"Name not found\"\n",
    "\n",
    "        # Extract product price\n",
    "        price_element = soup.find(\"div\", {\"class\": \"priceView-hero-price\"}).find(\"span\", {\"aria-hidden\": \"true\"})\n",
    "        product_price = price_element.text.strip() if price_element else \"Price not found\"\n",
    "\n",
    "        # Print the results\n",
    "        print(\"Product Name:\", product_name)\n",
    "        print(\"Product Price:\", product_price)\n",
    "    else:\n",
    "        print(\"Failed to retrieve the page. Status code:\", response.status_code)\n"
   ]
  }
 ],
 "metadata": {
  "kernelspec": {
   "display_name": "Python 3",
   "language": "python",
   "name": "python3"
  },
  "language_info": {
   "codemirror_mode": {
    "name": "ipython",
    "version": 3
   },
   "file_extension": ".py",
   "mimetype": "text/x-python",
   "name": "python",
   "nbconvert_exporter": "python",
   "pygments_lexer": "ipython3",
   "version": "3.11.5"
  }
 },
 "nbformat": 4,
 "nbformat_minor": 2
}
